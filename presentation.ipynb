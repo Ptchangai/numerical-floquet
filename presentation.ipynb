{
 "cells": [
  {
   "cell_type": "markdown",
   "metadata": {},
   "source": [
    "## Numerical Floquet\n",
    "\n",
    "Welcome to this Jupyter notebook.\n",
    "We will analyze the stability of periodic dynamical systems."
   ]
  },
  {
   "cell_type": "code",
   "execution_count": 1,
   "metadata": {},
   "outputs": [
    {
     "name": "stderr",
     "output_type": "stream",
     "text": [
      "Could not find GLIMDA.\n"
     ]
    }
   ],
   "source": [
    "from differential_equations import lotka_volterra\n",
    "from numerical_integration import solve_ode, RK4step, RK34step\n",
    "import matplotlib.pyplot as plt\n",
    "import numpy as np\n",
    "import matplotlib.pyplot as plt"
   ]
  },
  {
   "cell_type": "code",
   "execution_count": 6,
   "metadata": {},
   "outputs": [],
   "source": []
  },
  {
   "cell_type": "code",
   "execution_count": 2,
   "metadata": {},
   "outputs": [],
   "source": [
    "t_eval = np.linspace(0, 20, 2000)"
   ]
  },
  {
   "cell_type": "code",
   "execution_count": 3,
   "metadata": {},
   "outputs": [],
   "source": [
    "initial_value = 0.1"
   ]
  },
  {
   "cell_type": "code",
   "execution_count": null,
   "metadata": {},
   "outputs": [],
   "source": [
    "y_exponential = [[initial_value]]\n",
    "for i,t in enumerate(t_eval):\n",
    "    y_exponential.append(exponential)"
   ]
  },
  {
   "cell_type": "code",
   "execution_count": 2,
   "metadata": {},
   "outputs": [],
   "source": [
    "initial_value = [1, 4]  # Initial values for [x, y]\n",
    "step_size = 0.0001\n",
    "num_iterations = 200000\n",
    "param = (3, 9, 15, 15)\n",
    "\n",
    "result = solve_ode(initial_value, step_size, num_iterations, ode_func=lotka_volterra, param=param, stepper_func=RK4step)\n",
    "#result2 = solve_ode(initial_value, step_size, num_iterations, ode_func=lotka_volterra, param=param, stepper_func=RK34step)"
   ]
  },
  {
   "cell_type": "code",
   "execution_count": 3,
   "metadata": {},
   "outputs": [
    {
     "data": {
      "text/plain": [
       "[<matplotlib.lines.Line2D at 0x1ea42f9dd60>]"
      ]
     },
     "execution_count": 3,
     "metadata": {},
     "output_type": "execute_result"
    },
    {
     "data": {
      "image/png": "[encoded data removed]",
      "text/plain": [
       "<Figure size 640x480 with 1 Axes>"
      ]
     },
     "metadata": {},
     "output_type": "display_data"
    }
   ],
   "source": [
    "lotka = [i[0] for i in result]\n",
    "volterra = [i[1] for i in result]\n",
    "plt.plot(lotka,volterra)"
   ]
  },
  {
   "cell_type": "code",
   "execution_count": 7,
   "metadata": {},
   "outputs": [
    {
     "name": "stdout",
     "output_type": "stream",
     "text": [
      "[[0.05 0.  ]\n",
      " [0.05 0.  ]\n",
      " [0.05 0.  ]]\n"
     ]
    }
   ],
   "source": [
    "import numpy as np\n",
    "from scipy.integrate import RK45\n",
    "from scipy.optimize import fsolve\n",
    "\n",
    "def Poincare_ND(F, S, h, y0, max_crossings=3):\n",
    "    tol = 1e-5\n",
    "    t = np.arange(0, 10 + h, h)\n",
    "    num_dimensions = len(y0)\n",
    "    approx = np.zeros((len(t), num_dimensions))\n",
    "    approx[0, :] = y0\n",
    "    crossings = []\n",
    "\n",
    "    def event(y):\n",
    "        return [y[i] - approx[i, i] for i in range(num_dimensions)]\n",
    "\n",
    "    for i in range(len(t) - 1):\n",
    "        sol = RK45(lambda t, y: F(t, y), t[i], approx[i, :], t[i+1], rtol=1e-6, atol=1e-9)\n",
    "        \n",
    "        while sol.status == 'running':\n",
    "            sol.step()\n",
    "\n",
    "        crossing_point = fsolve(event, approx[i, :])\n",
    "        \n",
    "        if len(crossing_point) > 0:\n",
    "            crossings.append(crossing_point)\n",
    "            if len(crossings) == max_crossings:\n",
    "                break\n",
    "\n",
    "    return np.array(crossings)\n",
    "\n",
    "# Example usage\n",
    "def F_ND(t, y):\n",
    "    # Modify this function to match your N-dimensional system\n",
    "    # dydt should be a list of derivatives for each dimension\n",
    "    # Example: For a 2D system: [a * y[0] - b * y[0] * y[1], -c * y[1] + d * y[0] * y[1]]\n",
    "    a,b,c,d = (2,3,1,2)\n",
    "    dydt = [a * y[0] - b * y[0] * y[1], -c * y[1] + d * y[0] * y[1]]  # Replace with actual derivatives\n",
    "    return dydt\n",
    "\n",
    "S_ND = np.array([[0.1, 0.2], [0.3, 0.4], [0.5, 0.6]])  # Sample S matrix for N-dimensional system\n",
    "h = 0.01\n",
    "y0_ND = [0.05, 0.07]  # Initial conditions for N-dimensional system\n",
    "\n",
    "P_ND = Poincare_ND(F_ND, S_ND, h, y0_ND)\n",
    "print(P_ND)"
   ]
  }
 ],
 "metadata": {
  "kernelspec": {
   "display_name": "Python 3 (ipykernel)",
   "language": "python",
   "name": "python3"
  },
  "language_info": {
   "codemirror_mode": {
    "name": "ipython",
    "version": 3
   },
   "file_extension": ".py",
   "mimetype": "text/x-python",
   "name": "python",
   "nbconvert_exporter": "python",
   "pygments_lexer": "ipython3",
   "version": "3.9.12"
  },
  "vscode": {
   "interpreter": {
    "hash": "4cff3abf1678755e0069fd79299a535fe1940bcd71a6b01d9f4386710b2b163f"
   }
  }
 },
 "nbformat": 4,
 "nbformat_minor": 4
}
